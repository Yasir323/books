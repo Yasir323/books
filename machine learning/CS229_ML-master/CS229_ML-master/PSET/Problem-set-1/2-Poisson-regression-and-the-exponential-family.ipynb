{
 "cells": [
  {
   "cell_type": "markdown",
   "metadata": {},
   "source": [
    "http://cs229.stanford.edu/ps/ps1/ps1.pdf"
   ]
  },
  {
   "cell_type": "markdown",
   "metadata": {},
   "source": [
    "# (a)"
   ]
  },
  {
   "cell_type": "markdown",
   "metadata": {},
   "source": [
    "Poisson distribution:\n",
    "\n",
    "\\begin{align*}\n",
    "p(y; \\lambda) &= \\frac{e^{-\\lambda} \\lambda ^y}{y!} \\\\\n",
    "              &= \\frac{1}{y!}\\mathrm{exp}(y\\mathrm{ln}\\lambda - \\lambda) \\\\\n",
    "\\end{align*}\n"
   ]
  },
  {
   "cell_type": "markdown",
   "metadata": {},
   "source": [
    "So in the form exponential family:\n",
    "\n",
    "\\begin{align*}\n",
    "b(y) &= \\frac{1}{y!} \\\\\n",
    "\\eta &= \\mathrm{ln} \\lambda \\\\\n",
    "T(y) &= y \\\\\n",
    "a(\\eta) &= \\lambda = e^{\\eta} \\\\\n",
    "\\end{align*}"
   ]
  },
  {
   "cell_type": "markdown",
   "metadata": {},
   "source": [
    "# (b)"
   ]
  },
  {
   "cell_type": "markdown",
   "metadata": {},
   "source": [
    "Canoical response function:\n",
    "\n",
    "\\begin{align*}\n",
    "g(\\eta) &= \\mathrm{E}(T(y); \\eta) \\\\\n",
    "        &= \\mathrm{E}(y; \\eta) \\\\\n",
    "        &= \\lambda \\\\\n",
    "        &= e^{\\eta} \\\\\n",
    "        &= e^{\\theta^T x} \\\\\n",
    "\\end{align*}"
   ]
  },
  {
   "cell_type": "markdown",
   "metadata": {},
   "source": [
    "# (c)"
   ]
  },
  {
   "cell_type": "markdown",
   "metadata": {},
   "source": [
    "Log-likelihood:\n",
    "\n",
    "\\begin{align*}\n",
    "l(\\theta) &= \\mathrm{log} (p(y; \\lambda)) \\\\\n",
    "          &= \\mathrm{log} \\frac{1}{y!} + y \\mathrm{ln} \\lambda - \\lambda \\\\\n",
    "          &= \\mathrm{log} \\frac{1}{y!} + y \\eta - e^{\\eta} \\\\\n",
    "          &= \\mathrm{log} \\frac{1}{y!} + y \\theta^T x - e^{\\theta^T x}\n",
    "\\end{align*}\n",
    "\n",
    "Note that $\\lambda$ is a function of $\\eta$, which is a function of $\\theta$.\n",
    "\n",
    "\n",
    "\\begin{align*}\n",
    "\\frac{\\partial l(\\theta)}{\\partial \\theta_j} &= \\mathrm{log} (p(y; \\lambda)) \\\\\n",
    "          &= \\mathrm{log} \\frac{1}{y!} + y \\mathrm{ln} \\lambda - \\lambda \\\\\n",
    "\\end{align*}\n",
    "\n",
    "\n",
    "Its derivative:\n",
    "\n",
    "\\begin{align*}\n",
    "\\frac{\\partial l(\\theta)}{\\partial \\theta_j} &= y x_j - e^{\\theta^T x} x_j \\\\\n",
    "                                             &= (y - e^{\\theta^T x}) x_j \\\\\n",
    "                                             &= (y - e^{\\eta}) x_j \\\\\n",
    "                                             &= (y - \\lambda) x_j\n",
    "\\end{align*}\n",
    "\n",
    "So the stochastic gradient ascent rule:\n",
    "\n",
    "\\begin{align*}\n",
    "\\theta_j &:= \\theta_j + \\alpha(y^{(i)} - e^{\\theta^T x^{(i)}})x_j^{(i)}\n",
    "\\end{align*}"
   ]
  },
  {
   "cell_type": "markdown",
   "metadata": {},
   "source": [
    "# (d)"
   ]
  },
  {
   "cell_type": "markdown",
   "metadata": {},
   "source": [
    "GLM:\n",
    "\n",
    "$$p(y;\\eta) = b(y) \\mathrm{exp}(\\eta T(y) - a(\\eta)) $$\n",
    "\n",
    "Given $T(y) = y$, so the GLM becomes\n",
    "\n",
    "$$p(y;\\eta) = b(y) \\mathrm{exp}(\\eta y - a(\\eta)) $$\n",
    "\n",
    "and the log-likelihood is \n",
    "\n",
    "\\begin{align*}\n",
    "\\mathrm{log}(p(y;\\eta)) &= b(y) \\mathrm{exp}(\\eta y - a(\\eta)) \\\\\n",
    "               &= \\mathrm{log}(b(y)) + \\eta y - a(\\eta)\n",
    "\\end{align*}\n",
    "\n",
    "The derivative:\n",
    "\n",
    "\\begin{align*}\n",
    "\\frac{\\partial \\mathrm{log}(p(y;\\eta))}{\\partial \\theta_j} \n",
    "     &= 0 + y \\frac{\\partial \\eta}{\\theta_j} - \\frac{\\partial a(\\eta)}{\\partial \\eta} \\frac{\\partial \\eta}{\\theta_j} \\\\\n",
    "     &= y x_j  - \\frac{\\partial a(\\eta)}{\\partial \\eta} x_j \\\\\n",
    "     &= (y - \\frac{\\partial a(\\eta)}{\\partial \\eta}) x_j\n",
    "\\end{align*}\n",
    "\n",
    "So we need to work out what $\\frac{\\partial a(\\eta)}{\\partial \\eta}$ is.\n",
    "\n",
    "Note the following (ref: http://people.stat.sfu.ca/~raltman/stat402/402L6.pdf):\n",
    "\n",
    "$$ \\int_{y}p(y;\\eta) dy = 1 $$\n",
    "\n",
    "Taking derivative on both side w.s.t $\\eta$\n",
    "\n",
    "$$ \\frac{d}{d \\eta}\\int_{y}p(y;\\eta) dy = 0 $$\n",
    "\n",
    "So\n",
    "\n",
    "$$ \\int_{y} \\frac{d}{d \\eta} p(y;\\eta) dy = 0 $$\n",
    "\n",
    "Transforming the left side,\n",
    "\n",
    "\\begin{align*}\n",
    "\\int_{y} \\frac{d}{d \\eta} p(y;\\eta) dy \n",
    "    &= \\int_{y} b(y) \\mathrm{exp}(\\eta y - a(\\eta))(y - \\frac{d a(\\eta)}{d \\eta}) dy \\\\\n",
    "    &= \\int_{y} p(y; \\eta)(y - \\frac{d a(\\eta)}{d \\eta}) dy \\\\\n",
    "    &= \\int_{y} p(y; \\eta) y - \\int_{y} p(y;\\eta) \\frac{d a(\\eta)}{d \\eta} dy \\\\\n",
    "    &= h(x) - \\frac{d a(\\eta)}{d \\eta} \\int_{y}p dy \\\\\n",
    "    &= h(x) - \\frac{d a(\\eta)}{d \\eta} 1 \\\\\n",
    "    &= h(x) - \\frac{d a(\\eta)}{d \\eta} \\\\\n",
    "    &= 0 \\\\\n",
    "\\end{align*}\n",
    "\n",
    "Therefore,\n",
    "$$ \\frac{\\partial a(\\eta)}{\\partial \\eta} = h(x)$$\n",
    "\n",
    "Taking it back to the derivative,\n",
    "\n",
    "$$ \\frac{\\partial \\mathrm{log}(p(y;\\eta))}{\\partial \\theta_j}  = (y - h(x)) x_j$$\n",
    "\n",
    "So the stochastic gradient ascent rule:\n",
    "\n",
    "\\begin{align*}\n",
    "\\theta_j &:= \\theta_j + \\alpha(y^{(i)} - h(x^{(i)})x_j^{(i)} \\\\\n",
    "         &:= \\theta_j - \\alpha(h(x^{(i)} - y^{(i)})x_j^{(i)}\n",
    "\\end{align*}"
   ]
  },
  {
   "cell_type": "markdown",
   "metadata": {},
   "source": [
    "It's very interesting to know that all GLM where $T(y) = y$ have the same update rule for stochastic gradient ascent."
   ]
  },
  {
   "cell_type": "code",
   "execution_count": null,
   "metadata": {
    "collapsed": true
   },
   "outputs": [],
   "source": []
  }
 ],
 "metadata": {
  "anaconda-cloud": {},
  "kernelspec": {
   "display_name": "Python 3",
   "language": "python",
   "name": "python3"
  },
  "language_info": {
   "codemirror_mode": {
    "name": "ipython",
    "version": 3
   },
   "file_extension": ".py",
   "mimetype": "text/x-python",
   "name": "python",
   "nbconvert_exporter": "python",
   "pygments_lexer": "ipython3",
   "version": "3.5.1"
  }
 },
 "nbformat": 4,
 "nbformat_minor": 2
}
