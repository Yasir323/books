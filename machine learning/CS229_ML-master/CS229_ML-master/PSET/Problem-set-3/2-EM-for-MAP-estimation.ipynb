{
 "cells": [
  {
   "cell_type": "markdown",
   "metadata": {},
   "source": [
    "# Maximum a posteriori (MAP)"
   ]
  },
  {
   "cell_type": "markdown",
   "metadata": {},
   "source": [
    "\\begin{align*}\n",
    "\\mathrm{MAP} \n",
    "= \\bigg (\\prod_{i=1}^{m}p(x^{(i)}|\\theta)\\bigg) p(\\theta)\n",
    "= \\bigg (\\prod_{i=1}^{m} \\sum_{z^{(i)}} p(x^{(i)}, z^{(i)} | \\theta) \\bigg) p(\\theta)\n",
    "\\end{align*}"
   ]
  },
  {
   "cell_type": "markdown",
   "metadata": {},
   "source": [
    "# Derivating EM algorithm for MAP"
   ]
  },
  {
   "cell_type": "markdown",
   "metadata": {},
   "source": [
    "Take log to both sides and apply Jensen's inequality\n",
    "\n",
    "For convex function:\n",
    "\n",
    "$$ E[f(X)] \\ge f(E[X])$$\n",
    "\n",
    "For concave function (e.g. log in this case):\n",
    "\n",
    "$$ f(E[X]) \\ge E[f(X)]$$"
   ]
  },
  {
   "cell_type": "markdown",
   "metadata": {},
   "source": [
    "**Detour 1**: 1-D illustration for Jensen's inequality:"
   ]
  },
  {
   "cell_type": "code",
   "execution_count": 1,
   "metadata": {
    "collapsed": false
   },
   "outputs": [
    {
     "data": {
      "image/png": "[encoded data removed]",
      "text/plain": [
       "<IPython.core.display.Image object>"
      ]
     },
     "execution_count": 1,
     "metadata": {},
     "output_type": "execute_result"
    }
   ],
   "source": [
    "from IPython.display import Image\n",
    "\n",
    "Image('./jensens-inequality-1D.png')"
   ]
  },
  {
   "cell_type": "markdown",
   "metadata": {},
   "source": [
    "\\begin{align*}\n",
    "\\mathrm{log MAP} \n",
    "&= \\sum_{i=1}^{m} \\mathrm{log} \\bigg (\\sum_{z^{(i)}} p(x^{(i)}, z^{(i)} | \\theta) \\bigg) + \\mathrm{log}(p(\\theta)) \\\\\n",
    "&= \\sum_{i=1}^{m} \\mathrm{log} \\bigg (\\sum_{z^{(i)}} Q_i(z^{(i)}) \\frac{p(x^{(i)}, z^{(i)}| \\theta)}{Q_i(z^{(i)})} \\bigg) + \\mathrm{log}(p(\\theta)) \\\\\n",
    "&\\geq \\sum_{i=1}^{m} \\bigg (\\sum_{z^{(i)}} Q_i(z^{(i)}) \\mathrm{log} \\frac{p(x^{(i)}, z^{(i)}| \\theta)}{Q_i(z^{(i)})} \\bigg) + \\mathrm{log}(p(\\theta)) \\\\\n",
    "\\end{align*}"
   ]
  },
  {
   "cell_type": "markdown",
   "metadata": {},
   "source": [
    "where $Q_i$ is a distribution over $z$ for data point $i$."
   ]
  },
  {
   "cell_type": "markdown",
   "metadata": {},
   "source": [
    "In the E-step, we want to tighten the lower bound (i.e. convert $\\ge$ into $=$), which is easily achievable by setting \n",
    "$\\frac{p(x^{(i)}, z^{(i)}| \\theta)}{Q_i(z^{(i)})}$ a constant, i.e. let\n",
    "\n",
    "$$\\frac{p(x^{(i)}, z^{(i)}| \\theta)}{Q_i(z^{(i)})} = c$$"
   ]
  },
  {
   "cell_type": "markdown",
   "metadata": {},
   "source": [
    "Also, since $Q_i$ is a probability distribution, so it should sum up to one over $z$. So,\n",
    "\n",
    "\\begin{align*}\n",
    "\\sum_{z^{(i)}} Q_{i}(z^{(i)}) = \\sum_{z^{(i)}} \\frac{p(x^{(i)}, z^{(i)}| \\theta)}{c} = 1\n",
    "\\end{align*}"
   ]
  },
  {
   "cell_type": "markdown",
   "metadata": {},
   "source": [
    "Then,\n",
    "\n",
    "$$ c = \\frac{1}{\\sum_{z^{(i)}} p(x^{(i)}, z^{(i)}| \\theta)} = \\frac{1}{p(x^{(i)}| \\theta)} $$\n",
    "\n",
    "So,\n",
    "\n",
    "\\begin{align*}\n",
    "Q_i(z^{(i)})\n",
    "&= \\frac{p(x^{(i)}, z^{(i)}| \\theta)}{p(x^{(i)}| \\theta)}\n",
    "\\\\\n",
    "&= p(z^{(i)} | x^{(i)}, \\theta)\n",
    "\\end{align*}"
   ]
  },
  {
   "cell_type": "markdown",
   "metadata": {},
   "source": [
    "### EM algorithm"
   ]
  },
  {
   "cell_type": "markdown",
   "metadata": {},
   "source": [
    "Therefore, we could formalize the EM algorithm for MAP as below,"
   ]
  },
  {
   "cell_type": "markdown",
   "metadata": {},
   "source": [
    "In the **E-step**, for each data point $i$, set\n",
    "\n",
    "$$Q_i(z^{(i)}) = p(z^{(i)} | x^{(i)}, \\theta)$$"
   ]
  },
  {
   "cell_type": "markdown",
   "metadata": {},
   "source": [
    "In the **M-step**, parameterize $\\theta$ to maximize $\\mathrm{log MAP}$,"
   ]
  },
  {
   "cell_type": "markdown",
   "metadata": {},
   "source": [
    "\\begin{align*}\n",
    "\\theta &= \\arg\\!\\max_{\\theta} (\\mathrm{logMAP}) \\\\\n",
    "&= \\arg\\!\\max_{\\theta} \\bigg[ \\sum_{i=1}^{m} \\bigg (\\sum_{z^{(i)}} Q_i(z^{(i)}) \\mathrm{log} \\frac{p(x^{(i)}, z^{(i)}| \\theta)}{Q_i(z^{(i)})} \\bigg) + \\mathrm{log}(p(\\theta)) \\bigg] \\\\\n",
    "\\end{align*}"
   ]
  },
  {
   "cell_type": "markdown",
   "metadata": {},
   "source": [
    "Given that RHS is a particular form of $\\mathrm{logMAP}$ after applying Jensen's inequality, I would like to label it as $Z$ for convenience later. "
   ]
  },
  {
   "cell_type": "markdown",
   "metadata": {},
   "source": [
    "Inspecting this algorithm, what it's doing is basically to \n",
    "\n",
    "1. estabilish a lower bound of $\\mathrm{log MAP}$ in the E-step, and then\n",
    "1. tune parameters ($\\theta$) in order to maximize the lower bound."
   ]
  },
  {
   "cell_type": "markdown",
   "metadata": {},
   "source": [
    "**Detour 2**: about the name Expectation-Maximization:\n",
    "\n",
    "Expectation probably refers to the quantity:\n",
    "\n",
    "$$\\sum_{z^{(i)}} Q_i(z^{(i)}) \\mathrm{log} \\frac{p(x^{(i)}, z^{(i)}| \\theta)}{Q_i(z^{(i)})}$$"
   ]
  },
  {
   "cell_type": "markdown",
   "metadata": {},
   "source": [
    "The algorithm is indeed about maximizing the sum of expectations over all data points, but I thought the name might be too generic and not illustrative of the process of lower bound estabilishing. Anyway, I interpret the name as following:\n",
    "\n",
    "* E-step is the step of setting an expectation\n",
    "* M-step is the step of maximizing the expectation."
   ]
  },
  {
   "cell_type": "markdown",
   "metadata": {},
   "source": [
    "### Next, we will prove each EM iteration is monotonically improving $\\mathrm{log MAP}$."
   ]
  },
  {
   "cell_type": "markdown",
   "metadata": {},
   "source": [
    "Suppose after an EM iteration at step $t$,\n",
    "\n",
    "* $Q_i^{(t)} = p(z^{(i)} | x^{(i)}, \\theta^{(t-1)})$\n",
    "* $\\theta = \\theta^{(t)}$\n",
    "\n",
    "so"
   ]
  },
  {
   "cell_type": "markdown",
   "metadata": {},
   "source": [
    "\\begin{align*}\n",
    "\\mathrm{logMAP}(\\theta^{(t)}) \n",
    "&= \\sum_{i=1}^{m} \\mathrm{log} \\bigg (\\sum_{z^{(i)}} Q_i^{(t)}(z^{(i)}) \\frac{p(x^{(i)}, z^{(i)}| \\theta^{(t)})}{Q_i^{(t)}(z^{(i)})} \\bigg) + \\mathrm{log}(p(\\theta^{(t)}))\n",
    "\\\\\n",
    "&\\ge \\sum_{i=1}^{m} \\bigg (\\sum_{z^{(i)}} Q_i^{(t)}(z^{(i)}) \\mathrm{log} \\frac{p(x^{(i)}, z^{(i)}| \\theta^{(t)})}{Q_i^{(t)}(z^{(i)})} \\bigg) + \\mathrm{log}(p(\\theta^{(t)}))\n",
    "\\end{align*}"
   ]
  },
  {
   "cell_type": "markdown",
   "metadata": {},
   "source": [
    "Now, we start a new EM iteration at step $t+1$."
   ]
  },
  {
   "cell_type": "markdown",
   "metadata": {},
   "source": [
    "In the E-step, we set a new lower bound for each $i$ with\n",
    "\n",
    "$$Q_i^{(t+1)}(z^{(i)}) = p(z^{(i)} | x^{(i)}, \\theta^{(t)})$$"
   ]
  },
  {
   "cell_type": "markdown",
   "metadata": {},
   "source": [
    "Then replacing $Q_i^{(t)}$ with $Q_i^{(t+1)}$ in the above equation,"
   ]
  },
  {
   "cell_type": "markdown",
   "metadata": {},
   "source": [
    "\\begin{align*}\n",
    "\\mathrm{logMAP}(\\theta^{(t)}) \n",
    "&= \\sum_{i=1}^{m} \\mathrm{log} \\bigg (\\sum_{z^{(i)}} Q_i^{(t+1)}(z^{(i)}) \\frac{p(x^{(i)}, z^{(i)}| \\theta^{(t)})}{Q_i^{(t+1)}(z^{(i)})} \\bigg) + \\mathrm{log}(p(\\theta^{(t)}))\n",
    "\\\\\n",
    "&= \\sum_{i=1}^{m} \\bigg (\\sum_{z^{(i)}} Q_i^{(t+1)}(z^{(i)}) \\mathrm{log} \\frac{p(x^{(i)}, z^{(i)}| \\theta^{(t)})}{Q_i^{(t+1)}(z^{(i)})} \\bigg) + \\mathrm{log}(p(\\theta^{(t)}))\n",
    "\\end{align*}"
   ]
  },
  {
   "cell_type": "markdown",
   "metadata": {},
   "source": [
    "Note the first equlity applies with whatever distribution $Q_i$, and the second inequality becomes equality become we reached the lower bound with the newly set $Q_i = Q_i^{(t+1)}$."
   ]
  },
  {
   "cell_type": "markdown",
   "metadata": {},
   "source": [
    "Then in the M-step, we maximize ${\\mathrm{logMAP}}$ to obtain $\\theta = \\theta^{(t+1)}$, so"
   ]
  },
  {
   "cell_type": "markdown",
   "metadata": {},
   "source": [
    "\\begin{align*}\n",
    "\\mathrm{logMAP}(\\theta^{(t+1)})\n",
    "&= \\sum_{i=1}^{m} \\mathrm{log} \\bigg (\\sum_{z^{(i)}} Q_i^{(t+1)}(z^{(i)}) \\frac{p(x^{(i)}, z^{(i)}| \\theta^{(t+1)})}{Q_i^{(t+1)}(z^{(i)})} \\bigg) + \\mathrm{log}(p(\\theta^{(t+1)}))\n",
    "\\\\\n",
    "&\\ge \\sum_{i=1}^{m} \\bigg (\\sum_{z^{(i)}} Q_i^{(t+1)}(z^{(i)}) \\mathrm{log} \\frac{p(x^{(i)}, z^{(i)}| \\theta^{(t+1)})}{Q_i^{(t+1)}(z^{(i)})} \\bigg) + \\mathrm{log}(p(\\theta^{(t+1)})) \\\\\n",
    "&\\ge \\sum_{i=1}^{m} \\bigg (\\sum_{z^{(i)}} Q_i^{(t+1)}(z^{(i)}) \\mathrm{log} \\frac{p(x^{(i)}, z^{(i)}| \\theta^{(t)})}{Q_i^{(t+1)}(z^{(i)})} \\bigg) + \\mathrm{log}(p(\\theta^{(t)})) \\\\\n",
    "&= \\mathrm{logMAP}(\\theta^{(t)})\n",
    "\\end{align*}\n"
   ]
  },
  {
   "cell_type": "markdown",
   "metadata": {},
   "source": [
    "Here,\n",
    "\n",
    "* the 1st equality is just the definition of $\\mathrm{logMAP}$\n",
    "* the 2nd inequality is again an application of Jensen's inequality\n",
    "* the 3nd inequality is a result of the maximization process, in which $\\theta^{(t)}$ becomes $\\theta^{(t+1)}$. Note, $\\mathrm{log}p(x, z|\\theta)$ and $\\mathrm{log}p(\\theta)$ are supposed to be concave in $\\theta$ and tractable as assumed in the lecture notes. So the maximization process is tractable\n",
    "* the 4th equality is just a restatement of the last equation after $Q_i^{(t)}$ => $Q_i^{(t+1)}$ replacement"
   ]
  },
  {
   "cell_type": "markdown",
   "metadata": {},
   "source": [
    "Therefore, we proved, EM monotonically increases $\\mathrm{logMAP}$, thereby $\\mathrm{MAP}$."
   ]
  },
  {
   "cell_type": "markdown",
   "metadata": {},
   "source": [
    "**Note**: The derivation is actually very analogous to that in the lecture notes on EM: http://cs229.stanford.edu/notes/cs229-notes8.pdf except for the additional standalone $\\log{p(\\theta)}$ in the log likelihood."
   ]
  },
  {
   "cell_type": "code",
   "execution_count": null,
   "metadata": {
    "collapsed": true
   },
   "outputs": [],
   "source": []
  }
 ],
 "metadata": {
  "anaconda-cloud": {},
  "kernelspec": {
   "display_name": "Python [default]",
   "language": "python",
   "name": "python3"
  },
  "language_info": {
   "codemirror_mode": {
    "name": "ipython",
    "version": 3
   },
   "file_extension": ".py",
   "mimetype": "text/x-python",
   "name": "python",
   "nbconvert_exporter": "python",
   "pygments_lexer": "ipython3",
   "version": "3.5.3"
  }
 },
 "nbformat": 4,
 "nbformat_minor": 0
}
