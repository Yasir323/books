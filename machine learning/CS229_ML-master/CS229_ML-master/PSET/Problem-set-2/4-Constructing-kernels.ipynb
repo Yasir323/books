{
 "cells": [
  {
   "cell_type": "markdown",
   "metadata": {},
   "source": [
    "http://cs229.stanford.edu/ps/ps2/ps2.pdf"
   ]
  },
  {
   "cell_type": "markdown",
   "metadata": {},
   "source": [
    "Use $M$ to represent the kernal matrix, so in general\n",
    "\n",
    "$$\n",
    "u^TMu = \\sum_{i,j}^{m} u_i u_j K(x^{(i)}, x^{(j)})\n",
    "$$"
   ]
  },
  {
   "cell_type": "markdown",
   "metadata": {},
   "source": [
    "# (a)"
   ]
  },
  {
   "cell_type": "markdown",
   "metadata": {},
   "source": [
    "\\begin{align*}\n",
    "u^TMu &= \\sum_{i,j}^{m} u_i u_j (K_1(x^{(i)}, x^{(j)}) + K_2(x^{(i)}, x^{(j)})) \\\\\n",
    "      &= \\sum_{i,j}^{m} (u_i u_j K_1(x^{(i)}, x^{(j)})) + \\sum_{i,j}^{m} (u_i u_j K_2(x^{(i)}, x^{(j)})) \\\\\n",
    "      &\\ge 0\n",
    "\\end{align*}\n",
    "so $K$ is a kernel"
   ]
  },
  {
   "cell_type": "markdown",
   "metadata": {},
   "source": [
    "# (b)"
   ]
  },
  {
   "cell_type": "markdown",
   "metadata": {},
   "source": [
    "\\begin{align*}\n",
    "u^TMu &= \\sum_{i,j}^{m} u_i u_j (K_1(x^{(i)}, x^{(j)}) - K_2(x^{(i)}, x^{(j)})) \\\\\n",
    "      &= \\sum_{i,j}^{m} (u_i u_j K_1(x^{(i)}, x^{(j)})) - \\sum_{i,j}^{m} (u_i u_j K_2(x^{(i)}, x^{(j)})) \\\\\n",
    "\\end{align*}\n",
    "\n",
    "doesn't necessarily equals 0, so $K$ is not a kernel"
   ]
  },
  {
   "cell_type": "markdown",
   "metadata": {},
   "source": [
    "# (c)"
   ]
  },
  {
   "cell_type": "markdown",
   "metadata": {},
   "source": [
    "Given $a \\in \\mathbb{R}$ and $a > 0$\n",
    "\n",
    "\\begin{align*}\n",
    "u^TMu &= \\sum_{i,j}^{m} u_i u_j aK_1(x^{(i)}, x^{(j)}) \\\\\n",
    "      &\\ge 0\n",
    "\\end{align*}\n",
    "\n",
    "so $K$ is a kernel"
   ]
  },
  {
   "cell_type": "markdown",
   "metadata": {},
   "source": [
    "# (d)"
   ]
  },
  {
   "cell_type": "markdown",
   "metadata": {},
   "source": [
    "Given $a \\in \\mathbb{R}$ and $a > 0$\n",
    "\n",
    "\\begin{align*}\n",
    "u^TMu &= \\sum_{i,j}^{m} u_i u_j (-a)K_1(x^{(i)}, x^{(j)}) \\\\\n",
    "      &\\le 0\n",
    "\\end{align*}\n",
    "\n",
    "so $K$ is not a kernel"
   ]
  },
  {
   "cell_type": "markdown",
   "metadata": {},
   "source": [
    "# (e)"
   ]
  },
  {
   "cell_type": "markdown",
   "metadata": {},
   "source": [
    "\\begin{align*}\n",
    "u^TKu \n",
    "    &= u^T K_1 K_2 \\\\\n",
    "    &= u^T K_1 uu^T (uu^T)^{-1} (uu^T)^{-1} uu^TK_2 u \\\\\n",
    "    &= (u^T K_1 u)u^T (Q^T \\Lambda Q)^{-1} (Q^T \\Lambda Q)^{-1} u(u^TK_2 u) \\\\ \n",
    "    &= (u^T K_1 u) u^T Q^T \\Lambda^{-1} Q Q^T \\Lambda^{-1} Q u(u^TK_2 u) \\\\\n",
    "    &= (u^T K_1 u) (u^T Q^T) \\Lambda^{-1}  \\Lambda^{-1} (Q u) (u^TK_2 u) \\\\\n",
    "    &= (u^T K_1 u) \\bigg ((Qu)^T \\Lambda^{-2}  (Q u) \\bigg ) (u^TK_2 u) \\\\\n",
    "\\end{align*}"
   ]
  },
  {
   "cell_type": "markdown",
   "metadata": {},
   "source": [
    "Here $Q^T \\Lambda Q$ is the eigen-diagnalization of the symmetric matrix $uu^T$ with $QQ^T = I$.\n",
    "\n",
    "Given $K_1$ and $K_2$ are kernels, it's straightforward to see $u^T K u > 0$, hence $K = K_1 K_2$ is a kernel."
   ]
  },
  {
   "cell_type": "markdown",
   "metadata": {},
   "source": [
    "# (f)"
   ]
  },
  {
   "cell_type": "markdown",
   "metadata": {},
   "source": [
    "\\begin{align*}\n",
    "u^TMu\n",
    "&= \\sum_{i,j}^{m} u_i u_j f(x^{(i)})f(x^{(j)}) \\\\\n",
    "&= \\bigg( u_1 f(x^{(1)}) + u_2 f(x^{(2)}) + \\cdots + u_m f(x^{(m)}) \\bigg)^2 \\\\\n",
    "& = \\sum_{i}^{m}\\bigg( u_i f(x^{(i)}) \\bigg)^2 \\\\\n",
    "&\\ge 0\n",
    "\\end{align*}"
   ]
  },
  {
   "cell_type": "markdown",
   "metadata": {},
   "source": [
    "Hence, $K$ is a kernel."
   ]
  },
  {
   "cell_type": "markdown",
   "metadata": {},
   "source": [
    "# (g)"
   ]
  },
  {
   "cell_type": "markdown",
   "metadata": {},
   "source": [
    "\\begin{align*}\n",
    "u^TMu &= \\sum_{i,j}^{m} u_i u_j K_3(\\phi(x^{(i)}), \\phi(x^{(j)}))\\\\\n",
    "      &\\ge 0\n",
    "\\end{align*}\n",
    "\n",
    "it appears that $\\phi$ doesn't matter as long as $K_3$ is a valid kernel. It's equivalent to transform all input first with $\\phi$ and then run SVM with $K_3$ as a kernel."
   ]
  },
  {
   "cell_type": "markdown",
   "metadata": {},
   "source": [
    "# (h)"
   ]
  },
  {
   "cell_type": "markdown",
   "metadata": {},
   "source": [
    "Given\n",
    "\n",
    "\\begin{align*}\n",
    "u^TMu &= \\sum_{i,j}^{m} u_i u_j K_1(x^{(i)}, x^{(j)})\\\\\n",
    "      &\\ge 0\n",
    "\\end{align*}"
   ]
  },
  {
   "cell_type": "markdown",
   "metadata": {},
   "source": [
    "using (a), (c), (e) shown above,"
   ]
  },
  {
   "cell_type": "markdown",
   "metadata": {},
   "source": [
    "\\begin{align*}\n",
    "u^TMu\n",
    "&= \\sum_{i,j}^{m} u_i u_j p(K_1(x^{(i)}, x^{(j)})) \\\\\n",
    "&= \\sum_{i,j}^{m} u_i u_j \\bigg( \\sum_{k} \\alpha_k \\big(K_1(x^{(i)}, x^{(j)})\\big)^k\\bigg) \\\\\n",
    "&\\ge 0\n",
    "\\end{align*}"
   ]
  },
  {
   "cell_type": "markdown",
   "metadata": {},
   "source": [
    "Hence, $K$ is a kernel."
   ]
  }
 ],
 "metadata": {
  "anaconda-cloud": {},
  "kernelspec": {
   "display_name": "Python 3",
   "language": "python",
   "name": "python3"
  },
  "language_info": {
   "codemirror_mode": {
    "name": "ipython",
    "version": 3
   },
   "file_extension": ".py",
   "mimetype": "text/x-python",
   "name": "python",
   "nbconvert_exporter": "python",
   "pygments_lexer": "ipython3",
   "version": "3.6.5"
  }
 },
 "nbformat": 4,
 "nbformat_minor": 1
}
