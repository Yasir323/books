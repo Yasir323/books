{
 "cells": [
  {
   "cell_type": "markdown",
   "metadata": {},
   "source": [
    "http://cs229.stanford.edu/ps/ps2/ps2.pdf"
   ]
  },
  {
   "cell_type": "markdown",
   "metadata": {},
   "source": [
    "# (a)\n",
    "\n",
    "The most notable difference is that training of data_b doesn't seem to converge, but that of data_a does."
   ]
  },
  {
   "cell_type": "markdown",
   "metadata": {},
   "source": [
    "# (b)"
   ]
  },
  {
   "cell_type": "code",
   "execution_count": 2,
   "metadata": {
    "collapsed": false
   },
   "outputs": [],
   "source": [
    "def add_intercept(X_):\n",
    "    m, n = X_.shape\n",
    "    X = np.zeros((m, n + 1))\n",
    "    X[:, 0] = 1\n",
    "    X[:, 1:] = X_\n",
    "    return X\n",
    "\n",
    "def load_data(filename):\n",
    "    D = np.loadtxt(filename)\n",
    "    Y = D[:, 0]\n",
    "    X = D[:, 1:]\n",
    "    return add_intercept(X), Y\n",
    "\n",
    "def calc_grad(X, Y, theta):\n",
    "    m, n = X.shape\n",
    "    grad = np.zeros(theta.shape)\n",
    "\n",
    "    margins = Y * X.dot(theta)\n",
    "    probs = 1. / (1 + np.exp(margins))\n",
    "    grad = -(1./m) * (X.T.dot(probs * Y))\n",
    "\n",
    "    return grad\n",
    "\n",
    "\n",
    "def logloss(X, Y, theta):\n",
    "    Y_copy = Y.copy()\n",
    "    Y_copy[Y_copy == -1] = 0\n",
    "    pred_probs = 1 / (1 + np.exp(- X.dot(theta)))\n",
    "    epsilon = 1e-16\n",
    "    return - np.sum(Y_copy * np.log(pred_probs + epsilon) + (1 - Y_copy) * np.log(1 - pred_probs + epsilon))\n",
    "    \n",
    "\n",
    "def logistic_regression(X, Y):\n",
    "    m, n = X.shape\n",
    "    theta = np.zeros(n)\n",
    "    learning_rate = 10\n",
    "\n",
    "    i = 0\n",
    "    thetas = []\n",
    "    errors = []\n",
    "    while True:\n",
    "        i += 1\n",
    "        prev_theta = theta\n",
    "        grad = calc_grad(X, Y, theta)\n",
    "        theta = theta  - learning_rate * (grad)\n",
    "        if i % 10000 == 0:\n",
    "            print('Finished {0} iterations; logloss: {1}'.format(i, logloss(X, Y, theta)))\n",
    "            thetas.append(theta)\n",
    "        error = np.linalg.norm(prev_theta - theta)\n",
    "        errors.append(error)\n",
    "        if error < 1e-15:\n",
    "            print('Converged in %d iterations' % i)\n",
    "            break\n",
    "        if i == 5 * 10000:\n",
    "            break\n",
    "    return thetas, errors"
   ]
  },
  {
   "cell_type": "code",
   "execution_count": 3,
   "metadata": {
    "collapsed": true
   },
   "outputs": [],
   "source": [
    "import numpy as np\n",
    "import pandas as pd\n",
    "import matplotlib.pyplot as plt\n",
    "\n",
    "%matplotlib inline"
   ]
  },
  {
   "cell_type": "code",
   "execution_count": 4,
   "metadata": {
    "collapsed": false
   },
   "outputs": [],
   "source": [
    "dfa = pd.read_csv('http://cs229.stanford.edu/ps/ps2/data_a.txt', header=None, sep=' ', names=['label', 'x1', 'x2'])"
   ]
  },
  {
   "cell_type": "code",
   "execution_count": 5,
   "metadata": {
    "collapsed": false
   },
   "outputs": [
    {
     "data": {
      "text/plain": [
       "<matplotlib.axes._subplots.AxesSubplot at 0x10edbf518>"
      ]
     },
     "execution_count": 5,
     "metadata": {},
     "output_type": "execute_result"
    },
    {
     "data": {
      "image/png": "[encoded data removed]",
      "text/plain": [
       "<matplotlib.figure.Figure at 0x10eda2b00>"
      ]
     },
     "metadata": {},
     "output_type": "display_data"
    }
   ],
   "source": [
    "ax = plt.axes()\n",
    "\n",
    "dfa.query('label ==  1').plot.scatter(x='x1', y='x2', ax=ax, color='blue')\n",
    "dfa.query('label == -1').plot.scatter(x='x1', y='x2', ax=ax, color='red')"
   ]
  },
  {
   "cell_type": "code",
   "execution_count": 6,
   "metadata": {
    "collapsed": true
   },
   "outputs": [],
   "source": [
    "dfb = pd.read_csv('http://cs229.stanford.edu/ps/ps2/data_b.txt', header=None, sep=' ', names=['label', 'x1', 'x2'])"
   ]
  },
  {
   "cell_type": "code",
   "execution_count": 7,
   "metadata": {
    "collapsed": false
   },
   "outputs": [
    {
     "data": {
      "text/plain": [
       "<matplotlib.axes._subplots.AxesSubplot at 0x1156562b0>"
      ]
     },
     "execution_count": 7,
     "metadata": {},
     "output_type": "execute_result"
    },
    {
     "data": {
      "image/png": "[encoded data removed]",
      "text/plain": [
       "<matplotlib.figure.Figure at 0x1154b6278>"
      ]
     },
     "metadata": {},
     "output_type": "display_data"
    }
   ],
   "source": [
    "ax = plt.axes()\n",
    "\n",
    "dfb.query('label ==  1').plot.scatter(x='x1', y='x2', ax=ax, color='blue')\n",
    "dfb.query('label == -1').plot.scatter(x='x1', y='x2', ax=ax, color='red')"
   ]
  },
  {
   "cell_type": "code",
   "execution_count": 11,
   "metadata": {
    "collapsed": false
   },
   "outputs": [
    {
     "name": "stdout",
     "output_type": "stream",
     "text": [
      "Finished 10000 iterations; logloss: 15.98874822112764\n",
      "Finished 20000 iterations; logloss: 15.98874821838721\n",
      "Finished 30000 iterations; logloss: 15.988748218387205\n",
      "Converged in 30395 iterations\n"
     ]
    }
   ],
   "source": [
    "Xa, Ya = load_data('data_a.txt')\n",
    "tha, erra = logistic_regression(Xa, Ya)"
   ]
  },
  {
   "cell_type": "code",
   "execution_count": 12,
   "metadata": {
    "collapsed": false
   },
   "outputs": [
    {
     "data": {
      "image/png": "[encoded data removed]",
      "text/plain": [
       "<matplotlib.figure.Figure at 0x115fe2e80>"
      ]
     },
     "metadata": {},
     "output_type": "display_data"
    }
   ],
   "source": [
    "fig, axes = plt.subplots(1, 3, sharex=True, sharey=True, figsize=(12, 3))\n",
    "axes = axes.ravel()\n",
    "\n",
    "for k, theta in enumerate(thetas[:3]):\n",
    "    ax = axes[k]\n",
    "    xs = np.arange(0, 1, 0.1)\n",
    "    ys = (-theta[0] - theta[1] * xs) / theta[2]\n",
    "    ax.plot(xs, ys, lw=0.5)\n",
    "    dfa.query('label ==  1').plot.scatter(x='x1', y='x2', ax=ax, color='blue')\n",
    "    dfa.query('label == -1').plot.scatter(x='x1', y='x2', ax=ax, color='red')"
   ]
  },
  {
   "cell_type": "code",
   "execution_count": 13,
   "metadata": {
    "collapsed": false
   },
   "outputs": [],
   "source": [
    "Xb, Yb = load_data('data_b.txt')"
   ]
  },
  {
   "cell_type": "code",
   "execution_count": 14,
   "metadata": {
    "collapsed": false
   },
   "outputs": [
    {
     "name": "stdout",
     "output_type": "stream",
     "text": [
      "Finished 10000 iterations; logloss: 3.045092224758587\n",
      "Finished 20000 iterations; logloss: 2.32556706272674\n",
      "Finished 30000 iterations; logloss: 1.9655254432929143\n",
      "Finished 40000 iterations; logloss: 1.7379713038351392\n",
      "Finished 50000 iterations; logloss: 1.5770732018729934\n"
     ]
    }
   ],
   "source": [
    "thetas, errors = logistic_regression(Xb, Yb)"
   ]
  },
  {
   "cell_type": "code",
   "execution_count": 16,
   "metadata": {
    "collapsed": false
   },
   "outputs": [
    {
     "data": {
      "image/png": "[encoded data removed]",
      "text/plain": [
       "<matplotlib.figure.Figure at 0x1171db710>"
      ]
     },
     "metadata": {},
     "output_type": "display_data"
    }
   ],
   "source": [
    "fig, axes = plt.subplots(2, 3, sharex=True, sharey=True, figsize=(12, 6))\n",
    "axes = axes.ravel()\n",
    "\n",
    "for k, theta in enumerate(thetas[:9]):\n",
    "    ax = axes[k]\n",
    "    xs = np.arange(0, 1, 0.1)\n",
    "    ys = (-theta[0] - theta[1] * xs) / theta[2]\n",
    "    ax.plot(xs, ys, lw=0.5)\n",
    "    dfb.query('label ==  1').plot.scatter(x='x1', y='x2', ax=ax, color='blue')\n",
    "    dfb.query('label == -1').plot.scatter(x='x1', y='x2', ax=ax, color='red')"
   ]
  },
  {
   "cell_type": "markdown",
   "metadata": {},
   "source": [
    "The reason why it takes so long for LR to converge is because of their perfect linearly separability (even at the early stage), after which the algorithm is just trying to increase the scale of theta so as to increase $|\\theta^Tx|$, which would lead to higher probability, hence higher likelihood.\n",
    "\n",
    "In the case of perfect separation, the theorectical maximum likelihood is 1, so untill theta reaches infinity, won't the algorithm stop.\n",
    "\n",
    "This doesn't happen to A because it's not linearly separable."
   ]
  },
  {
   "cell_type": "markdown",
   "metadata": {},
   "source": [
    "# (c)"
   ]
  },
  {
   "cell_type": "markdown",
   "metadata": {},
   "source": [
    "i. Using a different constant learning rate.\n",
    "\n",
    "**Ans:** No, as the $\\theta$ still needs to go to infinite to make maximum likelihood. However, it's may reach the numeric infinite (e.g. 1e15) faster if the learning rate is huge.\n",
    "\n",
    "ii. Decreasing the learning rate over time (e.g. scaling the initial learning rate by $1/t^2$, where $t$ is the number of gradient descent iterations thus far).\n",
    "\n",
    "**Ans:** No, this is not a problem caused by learning rate being too big.\n",
    "\n",
    "iii. Adding a regularization term $\\left|\\left|\\theta\\right|\\right|^2_2$ to the loss function.\n",
    "\n",
    "**Ans:** Yes, thus $\\theta$ won't be scaled to infinitely large.\n",
    "\n",
    "iv. Linear scaling of the input features.\n",
    "\n",
    "**Ans:** No, scaling input features is irrelevant to $\\theta$ getting infinitely large.\n",
    "\n",
    "v. Adding zero-mean Gaussian noise to the training data or labels\n",
    "\n",
    "**Ans:** Yes, Adding Gaussian noise may make the training data imperfectly separable with a linear classifier. See [Issue 12](https://github.com/zyxue/stanford-cs229/issues/12) for a brief discussion."
   ]
  },
  {
   "cell_type": "markdown",
   "metadata": {},
   "source": [
    "# (d)"
   ]
  },
  {
   "cell_type": "markdown",
   "metadata": {},
   "source": [
    "Dataset B won't cause a problem for SVM because in SVM, it tries to maximize the geometric margin, which won't be affected by scaling $\\left|\\left|\\theta\\right|\\right|$."
   ]
  },
  {
   "cell_type": "markdown",
   "metadata": {
    "collapsed": true
   },
   "source": [
    "**More details** in response to [Issue 3](https://github.com/zyxue/stanford-cs229/issues/3)."
   ]
  },
  {
   "cell_type": "markdown",
   "metadata": {},
   "source": [
    "Comparing logistic regression with SVM (with a linear kernel), both look for a hyperplane, but with different goals in mind:\n",
    "\n",
    "* LR searches for a hyperplane that maximizes the likelihood, while\n",
    "* SVM looks for a hyperplane that maximizes the margin."
   ]
  },
  {
   "cell_type": "markdown",
   "metadata": {},
   "source": [
    "In standard logistic regression, the goal is the maximize\n",
    "\n",
    "\\begin{align*}\n",
    "\\max_{\\theta}L(\\theta) \n",
    "&= \\max_{\\theta} \\prod_{i=1}^{m} (h_{\\theta}(x^{(i)}))^{y{(i)}} (1 - h_{\\theta}(x^{(i)}))^{1 - y{(i)}} \\\\\n",
    "&= \\max_{\\theta} \\prod_{i=1}^{m} (\\frac{1}{1 + e^{-\\theta^T x}})^{y{(i)}} (1 - \\frac{1}{1 + e^{-\\theta^T x}})^{1 - y{(i)}} \\\\\n",
    "\\end{align*}\n"
   ]
  },
  {
   "cell_type": "markdown",
   "metadata": {},
   "source": [
    "where $h_{\\theta}$ is the sigmoid function, and $y \\in \\{0, 1\\}$."
   ]
  },
  {
   "cell_type": "markdown",
   "metadata": {},
   "source": [
    "In the Ng's [SVM note](http://cs229.stanford.edu/notes/cs229-notes3.pdf), it introduces two concepts about margin, and data are labeled differently, $y \\in \\{-1, 1\\}$. Also, it replaces $\\left|\\left|\\theta \\right|\\right|$ with $w$ and $b$."
   ]
  },
  {
   "cell_type": "markdown",
   "metadata": {},
   "source": [
    "**Functional margin**, which is affected by scaling $w$ and $b$.\n",
    "\n",
    "\\begin{align*}\n",
    "\\hat \\gamma &= \\min_{i = 1,\\cdots,m} \\hat \\gamma^{(i)} \\\\\n",
    "&= \\min_{i = 1,\\cdots,m} y^{(i)}(w^Tx^{(i)} + b)\n",
    "\\end{align*}"
   ]
  },
  {
   "cell_type": "markdown",
   "metadata": {},
   "source": [
    "**Geometric margin**, which won't be affected by scaling $w$ and $b$\n",
    "\n",
    "\\begin{align*}\n",
    "\\gamma &= \\min_{i = 1,\\cdots,m} \\gamma^{(i)} \\\\\n",
    "&= \\min_{i = 1,\\cdots,m} y^{(i)}\\bigg(\\big(\\frac{w}{\\left|\\left|w\\right|\\right|})^T x^{(i)} + \\frac{b}{\\left|\\left|w\\right|\\right|} \\bigg)\n",
    "\\end{align*}"
   ]
  },
  {
   "cell_type": "markdown",
   "metadata": {},
   "source": [
    "So in SVM, the final goal is to maximize geometric margin,\n",
    "\n",
    "\\begin{align*}\n",
    "\\max_{w, b} &\\; \\gamma \\\\\n",
    "\\textrm{s.t.} &\\; y^{(i)}(w^T x^{(i)} + b) \\ge \\gamma, i=1,\\cdots,m \\\\\n",
    "&\\; \\left|\\left|w\\right|\\right| = 1\n",
    "\\end{align*}"
   ]
  },
  {
   "cell_type": "markdown",
   "metadata": {},
   "source": [
    "instead of functional margin. As seen, the two are related by $\\left|\\left|w\\right|\\right|$. Hence, the above can be   equivalently written as"
   ]
  },
  {
   "cell_type": "markdown",
   "metadata": {},
   "source": [
    "\\begin{align*}\n",
    "\\max_{w, b} &\\; \\frac{\\hat \\gamma}{\\left|\\left| w \\right|\\right|} \\\\\n",
    "\\textrm{s.t.} &\\; y^{(i)}(w^T x^{(i)} + b) \\ge \\hat \\gamma, i=1,\\cdots,m \\\\\n",
    "&\\; \\hat \\gamma = 1\n",
    "\\end{align*}"
   ]
  },
  {
   "cell_type": "markdown",
   "metadata": {},
   "source": [
    "Replacing $\\hat \\gamma$ with $1$,\n",
    "\n",
    "\\begin{align*}\n",
    "\\max_{w, b} &\\; \\frac{1}{\\left|\\left| w \\right|\\right|} \\\\\n",
    "\\textrm{s.t.} &\\; y^{(i)}(w^T x^{(i)} + b) \\ge \\hat \\gamma, i=1,\\cdots,m \\\\\n",
    "\\end{align*}"
   ]
  },
  {
   "cell_type": "markdown",
   "metadata": {},
   "source": [
    "Maximizing $\\frac{1}{\\left|\\left| w \\right|\\right|}$ is equivalent to minimizing $\\frac{1}{2}\\left|\\left| w \\right|\\right|^2$. The $\\frac{1}{2}$ and taking square are probably just for mathmatical convenience when taking derivatives during optimization. Hence, we end up with the exact optimization problem as shown in the notes,"
   ]
  },
  {
   "cell_type": "markdown",
   "metadata": {},
   "source": [
    "Replacing $\\hat \\gamma$ with $1$,\n",
    "\n",
    "\\begin{align*}\n",
    "\\min_{w, b} &\\; \\frac{1}{2} \\left|\\left| w \\right|\\right|^2 \\\\\n",
    "\\textrm{s.t.} &\\; y^{(i)}(w^T x^{(i)} + b) \\ge \\hat \\gamma, i=1,\\cdots,m \\\\\n",
    "\\end{align*}"
   ]
  },
  {
   "cell_type": "markdown",
   "metadata": {},
   "source": [
    "Inspecting the derivation, it started with \n",
    "\n",
    "**maximizing $\\gamma$ while fixing $\\left|\\left|w\\right|\\right|$**,\n",
    "\n",
    "which are then transformed into \n",
    "\n",
    "**minimizing $\\left|\\left|w\\right|\\right|$ while fixing $\\hat \\gamma$**.\n",
    "\n",
    "It is like the two sides of the same coin. (Note $\\gamma$ is equal to $\\hat \\gamma$ when $\\left|\\left|w\\right|\\right| = 1$)"
   ]
  }
 ],
 "metadata": {
  "kernelspec": {
   "display_name": "Python 3",
   "language": "python",
   "name": "python3"
  },
  "language_info": {
   "codemirror_mode": {
    "name": "ipython",
    "version": 3
   },
   "file_extension": ".py",
   "mimetype": "text/x-python",
   "name": "python",
   "nbconvert_exporter": "python",
   "pygments_lexer": "ipython3",
   "version": "3.5.1"
  }
 },
 "nbformat": 4,
 "nbformat_minor": 0
}
